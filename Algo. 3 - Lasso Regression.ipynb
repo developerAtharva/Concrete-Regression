{
 "cells": [
  {
   "cell_type": "code",
   "execution_count": 1,
   "id": "9d4efafb-abfc-4eb4-b4d5-3c52b61ca191",
   "metadata": {},
   "outputs": [],
   "source": [
    "import pandas as pd\n",
    "import numpy as np\n",
    "import matplotlib.pyplot as plt\n",
    "import seaborn as sns\n",
    "import warnings\n",
    "warnings.filterwarnings('ignore')"
   ]
  },
  {
   "cell_type": "code",
   "execution_count": 2,
   "id": "6c28bba9-4e97-4c9d-b205-241ec97f580a",
   "metadata": {},
   "outputs": [
    {
     "data": {
      "text/html": [
       "<div>\n",
       "<style scoped>\n",
       "    .dataframe tbody tr th:only-of-type {\n",
       "        vertical-align: middle;\n",
       "    }\n",
       "\n",
       "    .dataframe tbody tr th {\n",
       "        vertical-align: top;\n",
       "    }\n",
       "\n",
       "    .dataframe thead th {\n",
       "        text-align: right;\n",
       "    }\n",
       "</style>\n",
       "<table border=\"1\" class=\"dataframe\">\n",
       "  <thead>\n",
       "    <tr style=\"text-align: right;\">\n",
       "      <th></th>\n",
       "      <th>cement</th>\n",
       "      <th>slag</th>\n",
       "      <th>flyash</th>\n",
       "      <th>superplasticizer</th>\n",
       "      <th>coarseaggregate</th>\n",
       "      <th>fineaggregate</th>\n",
       "      <th>csMPa</th>\n",
       "      <th>boxcox_age</th>\n",
       "    </tr>\n",
       "  </thead>\n",
       "  <tbody>\n",
       "    <tr>\n",
       "      <th>0</th>\n",
       "      <td>540.0</td>\n",
       "      <td>0.0</td>\n",
       "      <td>0.0</td>\n",
       "      <td>2.5</td>\n",
       "      <td>1040.0</td>\n",
       "      <td>676.0</td>\n",
       "      <td>79.99</td>\n",
       "      <td>3.619520</td>\n",
       "    </tr>\n",
       "    <tr>\n",
       "      <th>1</th>\n",
       "      <td>540.0</td>\n",
       "      <td>0.0</td>\n",
       "      <td>0.0</td>\n",
       "      <td>2.5</td>\n",
       "      <td>1055.0</td>\n",
       "      <td>676.0</td>\n",
       "      <td>61.89</td>\n",
       "      <td>3.619520</td>\n",
       "    </tr>\n",
       "    <tr>\n",
       "      <th>2</th>\n",
       "      <td>332.5</td>\n",
       "      <td>142.5</td>\n",
       "      <td>0.0</td>\n",
       "      <td>0.0</td>\n",
       "      <td>932.0</td>\n",
       "      <td>594.0</td>\n",
       "      <td>40.27</td>\n",
       "      <td>6.441153</td>\n",
       "    </tr>\n",
       "    <tr>\n",
       "      <th>3</th>\n",
       "      <td>332.5</td>\n",
       "      <td>142.5</td>\n",
       "      <td>0.0</td>\n",
       "      <td>0.0</td>\n",
       "      <td>932.0</td>\n",
       "      <td>594.0</td>\n",
       "      <td>41.05</td>\n",
       "      <td>6.840674</td>\n",
       "    </tr>\n",
       "    <tr>\n",
       "      <th>4</th>\n",
       "      <td>198.6</td>\n",
       "      <td>132.4</td>\n",
       "      <td>0.0</td>\n",
       "      <td>0.0</td>\n",
       "      <td>978.4</td>\n",
       "      <td>825.5</td>\n",
       "      <td>44.30</td>\n",
       "      <td>6.822265</td>\n",
       "    </tr>\n",
       "    <tr>\n",
       "      <th>...</th>\n",
       "      <td>...</td>\n",
       "      <td>...</td>\n",
       "      <td>...</td>\n",
       "      <td>...</td>\n",
       "      <td>...</td>\n",
       "      <td>...</td>\n",
       "      <td>...</td>\n",
       "      <td>...</td>\n",
       "    </tr>\n",
       "    <tr>\n",
       "      <th>1025</th>\n",
       "      <td>276.4</td>\n",
       "      <td>116.0</td>\n",
       "      <td>90.3</td>\n",
       "      <td>8.9</td>\n",
       "      <td>870.1</td>\n",
       "      <td>768.3</td>\n",
       "      <td>44.28</td>\n",
       "      <td>3.619520</td>\n",
       "    </tr>\n",
       "    <tr>\n",
       "      <th>1026</th>\n",
       "      <td>322.2</td>\n",
       "      <td>0.0</td>\n",
       "      <td>115.6</td>\n",
       "      <td>10.4</td>\n",
       "      <td>817.9</td>\n",
       "      <td>813.4</td>\n",
       "      <td>31.18</td>\n",
       "      <td>3.619520</td>\n",
       "    </tr>\n",
       "    <tr>\n",
       "      <th>1027</th>\n",
       "      <td>148.5</td>\n",
       "      <td>139.4</td>\n",
       "      <td>108.6</td>\n",
       "      <td>6.1</td>\n",
       "      <td>892.4</td>\n",
       "      <td>780.0</td>\n",
       "      <td>23.70</td>\n",
       "      <td>3.619520</td>\n",
       "    </tr>\n",
       "    <tr>\n",
       "      <th>1028</th>\n",
       "      <td>159.1</td>\n",
       "      <td>186.7</td>\n",
       "      <td>0.0</td>\n",
       "      <td>11.3</td>\n",
       "      <td>989.6</td>\n",
       "      <td>788.9</td>\n",
       "      <td>32.77</td>\n",
       "      <td>3.619520</td>\n",
       "    </tr>\n",
       "    <tr>\n",
       "      <th>1029</th>\n",
       "      <td>260.9</td>\n",
       "      <td>100.5</td>\n",
       "      <td>78.3</td>\n",
       "      <td>8.6</td>\n",
       "      <td>864.5</td>\n",
       "      <td>761.5</td>\n",
       "      <td>32.40</td>\n",
       "      <td>3.619520</td>\n",
       "    </tr>\n",
       "  </tbody>\n",
       "</table>\n",
       "<p>1030 rows × 8 columns</p>\n",
       "</div>"
      ],
      "text/plain": [
       "      cement   slag  flyash  superplasticizer  coarseaggregate  fineaggregate  \\\n",
       "0      540.0    0.0     0.0               2.5           1040.0          676.0   \n",
       "1      540.0    0.0     0.0               2.5           1055.0          676.0   \n",
       "2      332.5  142.5     0.0               0.0            932.0          594.0   \n",
       "3      332.5  142.5     0.0               0.0            932.0          594.0   \n",
       "4      198.6  132.4     0.0               0.0            978.4          825.5   \n",
       "...      ...    ...     ...               ...              ...            ...   \n",
       "1025   276.4  116.0    90.3               8.9            870.1          768.3   \n",
       "1026   322.2    0.0   115.6              10.4            817.9          813.4   \n",
       "1027   148.5  139.4   108.6               6.1            892.4          780.0   \n",
       "1028   159.1  186.7     0.0              11.3            989.6          788.9   \n",
       "1029   260.9  100.5    78.3               8.6            864.5          761.5   \n",
       "\n",
       "      csMPa  boxcox_age  \n",
       "0     79.99    3.619520  \n",
       "1     61.89    3.619520  \n",
       "2     40.27    6.441153  \n",
       "3     41.05    6.840674  \n",
       "4     44.30    6.822265  \n",
       "...     ...         ...  \n",
       "1025  44.28    3.619520  \n",
       "1026  31.18    3.619520  \n",
       "1027  23.70    3.619520  \n",
       "1028  32.77    3.619520  \n",
       "1029  32.40    3.619520  \n",
       "\n",
       "[1030 rows x 8 columns]"
      ]
     },
     "execution_count": 2,
     "metadata": {},
     "output_type": "execute_result"
    }
   ],
   "source": [
    "df = pd.read_csv('cleaned_Concrete.csv')\n",
    "df"
   ]
  },
  {
   "cell_type": "code",
   "execution_count": 3,
   "id": "bd63c439-38dc-48a5-86ac-b040da45901f",
   "metadata": {},
   "outputs": [],
   "source": [
    "X = df.drop(columns = {'csMPa'})\n",
    "y = df['csMPa']"
   ]
  },
  {
   "cell_type": "markdown",
   "id": "482b6925-5f29-4189-b166-70eca9b2b9cd",
   "metadata": {},
   "source": [
    "**Train Test split**"
   ]
  },
  {
   "cell_type": "code",
   "execution_count": 4,
   "id": "74633a1e-d126-408b-9cd5-cc0749cff588",
   "metadata": {},
   "outputs": [],
   "source": [
    "from sklearn.model_selection import train_test_split\n",
    "\n",
    "X_train, X_test, y_train, y_test = train_test_split(X, y, test_size = 0.2, random_state = 53)"
   ]
  },
  {
   "cell_type": "markdown",
   "id": "d07125df-ef70-43e2-b5f8-3a8b9280b0cc",
   "metadata": {},
   "source": [
    "**Finding best alpha value**"
   ]
  },
  {
   "cell_type": "code",
   "execution_count": 5,
   "id": "a3be2720-36c5-468f-a235-d2519764a474",
   "metadata": {},
   "outputs": [
    {
     "data": {
      "text/plain": [
       "{'alpha': 1}"
      ]
     },
     "execution_count": 5,
     "metadata": {},
     "output_type": "execute_result"
    }
   ],
   "source": [
    "from sklearn.model_selection import GridSearchCV\n",
    "from sklearn.linear_model import Lasso\n",
    "\n",
    "estimator = Lasso()\n",
    "param_grid = {'alpha' : range(1, 10)}\n",
    "\n",
    "gs = GridSearchCV(estimator, param_grid, cv = 5, scoring = 'r2')\n",
    "gs.fit(X_train, y_train)\n",
    "gs.best_params_"
   ]
  },
  {
   "cell_type": "code",
   "execution_count": 7,
   "id": "7b6c132a-2266-4496-b699-085e892013fa",
   "metadata": {},
   "outputs": [
    {
     "name": "stdout",
     "output_type": "stream",
     "text": [
      "Coefficents:  [0.15969409 0.14419158 0.13024263 0.21546783 0.05700012 0.06704761\n",
      " 6.93429913]\n",
      "Intercept:  -159.4787377648047\n",
      "\n",
      "\n",
      "R2(train):  0.8057071277223654\n",
      "CV-Score:  0.7988340475496548\n",
      "R2(test):  0.8167476836546306\n",
      "Good Model\n"
     ]
    }
   ],
   "source": [
    "#Modelling\n",
    "from sklearn.linear_model import Lasso\n",
    "\n",
    "model = Lasso(alpha = 1)\n",
    "model.fit(X_train, y_train)\n",
    "\n",
    "print('Coefficents: ', model.coef_)\n",
    "print('Intercept: ', model.intercept_)\n",
    "\n",
    "#Prediction\n",
    "ypred_train = model.predict(X_train)\n",
    "ypred_test = model.predict(X_test)\n",
    "\n",
    "#Evaluation\n",
    "from sklearn.metrics import r2_score\n",
    "\n",
    "r2_train = r2_score(y_train, ypred_train)\n",
    "r2_test = r2_score(y_test, ypred_test)\n",
    "\n",
    "from sklearn.model_selection import cross_val_score\n",
    "\n",
    "cv = cross_val_score(model, X_train, y_train, cv = 5).mean()\n",
    "\n",
    "print('\\n')\n",
    "print('R2(train): ', r2_train)\n",
    "print('CV-Score: ', cv)\n",
    "print('R2(test): ', r2_test)\n",
    "\n",
    "if (abs(cv - r2_train) <= 0.05) and (abs(r2_train - r2_test) <= 0.05):\n",
    "  print('Good Model')\n",
    "else:\n",
    "  print('Bad Model')"
   ]
  },
  {
   "cell_type": "markdown",
   "id": "c3032bc3-6d6d-4b2c-996c-7fa4e1d84aef",
   "metadata": {},
   "source": [
    "No need to drop any column as no coefficients are 0"
   ]
  },
  {
   "cell_type": "markdown",
   "id": "f5d487f8-6df1-405b-ac2c-18fddfb634b7",
   "metadata": {},
   "source": [
    "this is the **Final Model** then"
   ]
  }
 ],
 "metadata": {
  "kernelspec": {
   "display_name": "Python 3 (ipykernel)",
   "language": "python",
   "name": "python3"
  },
  "language_info": {
   "codemirror_mode": {
    "name": "ipython",
    "version": 3
   },
   "file_extension": ".py",
   "mimetype": "text/x-python",
   "name": "python",
   "nbconvert_exporter": "python",
   "pygments_lexer": "ipython3",
   "version": "3.13.2"
  }
 },
 "nbformat": 4,
 "nbformat_minor": 5
}
